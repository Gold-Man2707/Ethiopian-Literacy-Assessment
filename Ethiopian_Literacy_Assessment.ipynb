{
  "nbformat": 4,
  "nbformat_minor": 0,
  "metadata": {
    "colab": {
      "provenance": [],
      "authorship_tag": "ABX9TyN/+FKGDQKKhWyrIbohOhYQ",
      "include_colab_link": true
    },
    "kernelspec": {
      "name": "python3",
      "display_name": "Python 3"
    },
    "language_info": {
      "name": "python"
    }
  },
  "cells": [
    {
      "cell_type": "markdown",
      "metadata": {
        "id": "view-in-github",
        "colab_type": "text"
      },
      "source": [
        "<a href=\"https://colab.research.google.com/github/Gold-Man2707/Ethiopian-Literacy-Assessment/blob/main/Ethiopian_Literacy_Assessment.ipynb\" target=\"_parent\"><img src=\"https://colab.research.google.com/assets/colab-badge.svg\" alt=\"Open In Colab\"/></a>"
      ]
    },
    {
      "cell_type": "code",
      "execution_count": 6,
      "metadata": {
        "colab": {
          "base_uri": "https://localhost:8080/"
        },
        "id": "DwFzOh_gdgFs",
        "outputId": "da25800c-d1f4-4eea-d863-862263e22018"
      },
      "outputs": [
        {
          "output_type": "stream",
          "name": "stdout",
          "text": [
            "\n",
            "    📊 Literacy Assessment Report for Ethiopia\n",
            "    ------------------------------------------\n",
            "    Total Population   : 120,000,000\n",
            "    Number of Students : 30,000,000\n",
            "    Literacy Rate      : 25.00%\n",
            "    Status             : Low literacy level in the population.\n",
            "    \n"
          ]
        }
      ],
      "source": [
        "# Literacy Assessment Program for Ethiopia\n",
        "\n",
        "def literacy_assessment(total_population, number_of_students):\n",
        "    if total_population <= 0:\n",
        "        return \"Population must be greater than zero.\"\n",
        "\n",
        "    # Calculate literacy rate\n",
        "    literacy_rate = (number_of_students / total_population) * 100\n",
        "\n",
        "    # Assessment message\n",
        "    if literacy_rate >= 80:\n",
        "        message = \"High literacy level in the population.\"\n",
        "    elif 50 <= literacy_rate < 80:\n",
        "        message = \"Moderate literacy level in the population.\"\n",
        "    else:\n",
        "        message = \"Low literacy level in the population.\"\n",
        "\n",
        "    return f\"\"\"\n",
        "    📊 Literacy Assessment Report for Ethiopia\n",
        "    ------------------------------------------\n",
        "    Total Population   : {total_population:,}\n",
        "    Number of Students : {number_of_students:,}\n",
        "    Literacy Rate      : {literacy_rate:.2f}%\n",
        "    Status             : {message}\n",
        "    \"\"\"\n",
        "\n",
        "# Example usage\n",
        "ethiopia_population = 120_000_000   # Approximate Ethiopia population\n",
        "students_enrolled   = 30_000_000    # Example: total students enrolled\n",
        "\n",
        "print(literacy_assessment(ethiopia_population, students_enrolled))\n"
      ]
    }
  ]
}